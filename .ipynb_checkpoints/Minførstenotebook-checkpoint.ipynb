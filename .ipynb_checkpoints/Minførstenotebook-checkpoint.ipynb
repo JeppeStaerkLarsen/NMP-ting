{
 "cells": [
  {
   "cell_type": "code",
   "execution_count": 1,
   "id": "3b2bdb5f",
   "metadata": {},
   "outputs": [
    {
     "name": "stdout",
     "output_type": "stream",
     "text": [
      "Hell\n"
     ]
    }
   ],
   "source": [
    "print('Hell')"
   ]
  },
  {
   "cell_type": "markdown",
   "id": "c469f721",
   "metadata": {},
   "source": [
    "Her kan du skrive noter"
   ]
  },
  {
   "cell_type": "code",
   "execution_count": 4,
   "id": "5fafde7b",
   "metadata": {},
   "outputs": [
    {
     "data": {
      "text/plain": [
       "5.551115123125783e-17"
      ]
     },
     "execution_count": 4,
     "metadata": {},
     "output_type": "execute_result"
    }
   ],
   "source": [
    "0.1+0.2-0.3"
   ]
  },
  {
   "cell_type": "code",
   "execution_count": null,
   "id": "5451171f",
   "metadata": {},
   "outputs": [],
   "source": []
  },
  {
   "cell_type": "code",
   "execution_count": 6,
   "id": "9d516895",
   "metadata": {},
   "outputs": [
    {
     "data": {
      "text/plain": [
       "'HELLO WORLD'"
      ]
     },
     "execution_count": 6,
     "metadata": {},
     "output_type": "execute_result"
    }
   ],
   "source": [
    "x='Hello World'\n",
    "x.upper()"
   ]
  },
  {
   "cell_type": "code",
   "execution_count": 12,
   "id": "dec18b3a",
   "metadata": {},
   "outputs": [
    {
     "name": "stdout",
     "output_type": "stream",
     "text": [
      "the metal is fox\n"
     ]
    }
   ],
   "source": [
    "print('the {2} {1} {0}'."
   ]
  },
  {
   "cell_type": "code",
   "execution_count": 19,
   "id": "7bea6693",
   "metadata": {},
   "outputs": [],
   "source": [
    "a=[1,2,3]\n",
    "a[2]=7"
   ]
  },
  {
   "cell_type": "code",
   "execution_count": 20,
   "id": "8b9718ca",
   "metadata": {},
   "outputs": [
    {
     "data": {
      "text/plain": [
       "[1, 2, 7]"
      ]
     },
     "execution_count": 20,
     "metadata": {},
     "output_type": "execute_result"
    }
   ],
   "source": [
    "a"
   ]
  },
  {
   "cell_type": "code",
   "execution_count": 23,
   "id": "e6dae098",
   "metadata": {},
   "outputs": [
    {
     "data": {
      "text/plain": [
       "{'P', 'a', 'e', 'l', 'r'}"
      ]
     },
     "execution_count": 23,
     "metadata": {},
     "output_type": "execute_result"
    }
   ],
   "source": [
    "set('Prallel')"
   ]
  },
  {
   "cell_type": "code",
   "execution_count": 28,
   "id": "257d7dbd",
   "metadata": {},
   "outputs": [
    {
     "data": {
      "text/plain": [
       "set"
      ]
     },
     "execution_count": 28,
     "metadata": {},
     "output_type": "execute_result"
    }
   ],
   "source": [
    "type({'Para','llel'})"
   ]
  },
  {
   "cell_type": "code",
   "execution_count": 29,
   "id": "71d2a61e",
   "metadata": {},
   "outputs": [
    {
     "data": {
      "text/plain": [
       "{1, 2, 3}"
      ]
     },
     "execution_count": 29,
     "metadata": {},
     "output_type": "execute_result"
    }
   ],
   "source": [
    "set([1,1,2,3])"
   ]
  },
  {
   "cell_type": "code",
   "execution_count": 30,
   "id": "b20a885f",
   "metadata": {},
   "outputs": [
    {
     "name": "stdout",
     "output_type": "stream",
     "text": [
      "Writing minfil.txt\n"
     ]
    }
   ],
   "source": [
    "%%writefile minfil.txt\n",
    "Hej, det her er en tekst fil\n",
    "Det her er anden linje\n",
    "Det her er tredje linje"
   ]
  },
  {
   "cell_type": "code",
   "execution_count": 31,
   "id": "92e27787",
   "metadata": {},
   "outputs": [
    {
     "data": {
      "text/plain": [
       "'C:\\\\Users\\\\ncjsl\\\\Mine Python ting'"
      ]
     },
     "execution_count": 31,
     "metadata": {},
     "output_type": "execute_result"
    }
   ],
   "source": [
    "pwd"
   ]
  },
  {
   "cell_type": "code",
   "execution_count": 34,
   "id": "e55698e1",
   "metadata": {},
   "outputs": [],
   "source": [
    "minfil = open(\"C:\\\\Users\\\\ncjsl\\\\\n",
    "Mine Python ting\\\\Complete-Python-3-Bootcamp-master\\\\\n",
    "00-Python Object and Data Structure Basics\\\\test.txt\")"
   ]
  },
  {
   "cell_type": "code",
   "execution_count": 35,
   "id": "b7b98c1a",
   "metadata": {},
   "outputs": [
    {
     "data": {
      "text/plain": [
       "'First Line\\nSecond Line'"
      ]
     },
     "execution_count": 35,
     "metadata": {},
     "output_type": "execute_result"
    }
   ],
   "source": [
    "minfil.read()"
   ]
  },
  {
   "cell_type": "code",
   "execution_count": 36,
   "id": "cd5d7027",
   "metadata": {},
   "outputs": [],
   "source": [
    "minfil.close()\n"
   ]
  },
  {
   "cell_type": "code",
   "execution_count": 37,
   "id": "e23704b4",
   "metadata": {},
   "outputs": [
    {
     "ename": "ValueError",
     "evalue": "I/O operation on closed file.",
     "output_type": "error",
     "traceback": [
      "\u001b[1;31m---------------------------------------------------------------------------\u001b[0m",
      "\u001b[1;31mValueError\u001b[0m                                Traceback (most recent call last)",
      "\u001b[1;32m~\\AppData\\Local\\Temp/ipykernel_2540/1422809216.py\u001b[0m in \u001b[0;36m<module>\u001b[1;34m\u001b[0m\n\u001b[1;32m----> 1\u001b[1;33m \u001b[0mminfil\u001b[0m\u001b[1;33m.\u001b[0m\u001b[0mread\u001b[0m\u001b[1;33m(\u001b[0m\u001b[1;33m)\u001b[0m\u001b[1;33m\u001b[0m\u001b[1;33m\u001b[0m\u001b[0m\n\u001b[0m",
      "\u001b[1;31mValueError\u001b[0m: I/O operation on closed file."
     ]
    }
   ],
   "source": [
    "minfil.read()"
   ]
  },
  {
   "cell_type": "code",
   "execution_count": 46,
   "id": "bd6d173a",
   "metadata": {},
   "outputs": [],
   "source": [
    "with open('min_skriver.txt',mode='w') as f:\n",
    "    f.write('Five on Fifth\\nSix on Sixth')"
   ]
  },
  {
   "cell_type": "code",
   "execution_count": 50,
   "id": "504e4893",
   "metadata": {},
   "outputs": [
    {
     "name": "stdout",
     "output_type": "stream",
     "text": [
      "Five on Fifth\n",
      "Six on SixthHell on earthHell on earth\n"
     ]
    }
   ],
   "source": [
    "with open('min_skriver.txt',mode='r') as f:\n",
    "    print(f.read())"
   ]
  },
  {
   "cell_type": "code",
   "execution_count": null,
   "id": "b0d50f90",
   "metadata": {},
   "outputs": [],
   "source": []
  },
  {
   "cell_type": "code",
   "execution_count": 52,
   "id": "46121d9e",
   "metadata": {},
   "outputs": [
    {
     "data": {
      "text/plain": [
       "58"
      ]
     },
     "execution_count": 52,
     "metadata": {},
     "output_type": "execute_result"
    }
   ],
   "source": [
    "from random import randint\n",
    "randint(0,70)"
   ]
  },
  {
   "cell_type": "code",
   "execution_count": 49,
   "id": "d68a2559",
   "metadata": {},
   "outputs": [],
   "source": [
    "with open('min_skriver.txt',mode='a') as f:\n",
    "    f.write('Hell on earth')"
   ]
  },
  {
   "cell_type": "code",
   "execution_count": 2,
   "id": "15c59e1d",
   "metadata": {},
   "outputs": [
    {
     "data": {
      "text/plain": [
       "3"
      ]
     },
     "execution_count": 2,
     "metadata": {},
     "output_type": "execute_result"
    }
   ],
   "source": [
    "from random import randint\n",
    "randint(0,5)"
   ]
  },
  {
   "cell_type": "code",
   "execution_count": 1,
   "id": "98db9095",
   "metadata": {},
   "outputs": [
    {
     "data": {
      "text/plain": [
       "2255"
      ]
     },
     "execution_count": 1,
     "metadata": {},
     "output_type": "execute_result"
    }
   ],
   "source": [
    "from random import randint\n",
    "randint (0,2318)"
   ]
  },
  {
   "cell_type": "code",
   "execution_count": 1,
   "id": "870c02dc",
   "metadata": {},
   "outputs": [
    {
     "name": "stdout",
     "output_type": "stream",
     "text": [
      "hallo\n"
     ]
    }
   ],
   "source": [
    "def hallo_funktion():\n",
    "    '''den her skriver hallo'''\n",
    "    print('hallo')\n",
    "\n",
    "hallo_funktion()"
   ]
  },
  {
   "cell_type": "code",
   "execution_count": 2,
   "id": "912e42d0",
   "metadata": {},
   "outputs": [
    {
     "data": {
      "text/plain": [
       "'To er da godt hop tit'"
      ]
     },
     "execution_count": 2,
     "metadata": {},
     "output_type": "execute_result"
    }
   ],
   "source": [
    "streng = 'To er da godt {} {}'.format('hop','tit')\n",
    "streng"
   ]
  },
  {
   "cell_type": "code",
   "execution_count": 4,
   "id": "905fe051",
   "metadata": {},
   "outputs": [
    {
     "data": {
      "text/plain": [
       "True"
      ]
     },
     "execution_count": 4,
     "metadata": {},
     "output_type": "execute_result"
    }
   ],
   "source": [
    "def is_even(a):\n",
    "    return a%2==0\n",
    "\n",
    "is_even(8)"
   ]
  },
  {
   "cell_type": "code",
   "execution_count": 7,
   "id": "a8661e35",
   "metadata": {},
   "outputs": [
    {
     "data": {
      "text/plain": [
       "[8, 6, 4, 2, 0]"
      ]
     },
     "execution_count": 7,
     "metadata": {},
     "output_type": "execute_result"
    }
   ],
   "source": [
    "def myfunc(*args):\n",
    "    is_even = []\n",
    "    for i in args:\n",
    "        if i%2==0:\n",
    "            is_even.append(i)\n",
    "        else:\n",
    "            pass\n",
    "    return is_even\n",
    "\n",
    "myfunc(9,8,7,6,5,4,3,2,1,0)"
   ]
  },
  {
   "cell_type": "code",
   "execution_count": 16,
   "id": "7bb15ad6",
   "metadata": {},
   "outputs": [
    {
     "data": {
      "text/plain": [
       "'JePpEsTaErK'"
      ]
     },
     "execution_count": 16,
     "metadata": {},
     "output_type": "execute_result"
    }
   ],
   "source": [
    "def myfunc(string):\n",
    "    #lav hvert bogstav på lige position uppercase\n",
    "    Output=''\n",
    "    i=0\n",
    "    for letter in string:\n",
    "        if i%2==0:\n",
    "            a= string[i].upper()\n",
    "            Output = Output + a\n",
    "        else:\n",
    "            a= string[i].lower()\n",
    "            Output = Output + a\n",
    "        i+=1\n",
    "    return Output\n",
    "\n",
    "myfunc('JeppeStaerk')\n",
    "            \n",
    "        \n",
    "    "
   ]
  },
  {
   "cell_type": "code",
   "execution_count": 17,
   "id": "e13f5bbc",
   "metadata": {},
   "outputs": [],
   "source": [
    "x=25\n",
    "\n",
    "def printer():\n",
    "    x=50\n",
    "    return x\n"
   ]
  },
  {
   "cell_type": "code",
   "execution_count": 18,
   "id": "25116728",
   "metadata": {},
   "outputs": [
    {
     "name": "stdout",
     "output_type": "stream",
     "text": [
      "25\n"
     ]
    }
   ],
   "source": [
    "print(x)"
   ]
  },
  {
   "cell_type": "code",
   "execution_count": 19,
   "id": "180c97cd",
   "metadata": {},
   "outputs": [
    {
     "data": {
      "text/plain": [
       "50"
      ]
     },
     "execution_count": 19,
     "metadata": {},
     "output_type": "execute_result"
    }
   ],
   "source": [
    "printer()"
   ]
  },
  {
   "cell_type": "code",
   "execution_count": 20,
   "id": "417d9d39",
   "metadata": {},
   "outputs": [
    {
     "name": "stdout",
     "output_type": "stream",
     "text": [
      "25\n"
     ]
    }
   ],
   "source": [
    "print(x)"
   ]
  },
  {
   "cell_type": "code",
   "execution_count": 11,
   "id": "eacf4f1c",
   "metadata": {},
   "outputs": [
    {
     "data": {
      "text/plain": [
       "'j'"
      ]
     },
     "execution_count": 11,
     "metadata": {},
     "output_type": "execute_result"
    }
   ],
   "source": [
    "string = 'JeppeStaerkLarsen'\n",
    "\n",
    "string[0].lower()"
   ]
  },
  {
   "cell_type": "code",
   "execution_count": null,
   "id": "cac23b34",
   "metadata": {},
   "outputs": [],
   "source": [
    "# brug find() og rfind() til nim sum game"
   ]
  },
  {
   "cell_type": "code",
   "execution_count": 1,
   "id": "706b87df",
   "metadata": {},
   "outputs": [
    {
     "name": "stdout",
     "output_type": "stream",
     "text": [
      "Writing pylint_testfil.txt\n"
     ]
    }
   ],
   "source": [
    "%%writefile pylint_testfil.txt\n",
    "For testing the pylint package, Jeppe"
   ]
  },
  {
   "cell_type": "code",
   "execution_count": 3,
   "id": "9d7f7546",
   "metadata": {},
   "outputs": [
    {
     "name": "stdout",
     "output_type": "stream",
     "text": [
      "Overwriting pylint_testfil.txt\n"
     ]
    }
   ],
   "source": [
    "%%writefile pylint_testfil.txt\n",
    "For at gøre det igen\n",
    "\n",
    "print('whaat')"
   ]
  },
  {
   "cell_type": "code",
   "execution_count": 5,
   "id": "7261787b",
   "metadata": {},
   "outputs": [
    {
     "ename": "SyntaxError",
     "evalue": "invalid syntax (Temp/ipykernel_22680/2659389692.py, line 1)",
     "output_type": "error",
     "traceback": [
      "\u001b[1;36m  File \u001b[1;32m\"C:\\Users\\ncjsl\\AppData\\Local\\Temp/ipykernel_22680/2659389692.py\"\u001b[1;36m, line \u001b[1;32m1\u001b[0m\n\u001b[1;33m    open pylint_testfil\u001b[0m\n\u001b[1;37m         ^\u001b[0m\n\u001b[1;31mSyntaxError\u001b[0m\u001b[1;31m:\u001b[0m invalid syntax\n"
     ]
    }
   ],
   "source": [
    "open pylint_testfil"
   ]
<<<<<<< HEAD
=======
=======
  },
  {
   "cell_type": "code",
   "execution_count": 1,
   "id": "d96b2dfc",
   "metadata": {},
   "outputs": [
    {
     "name": "stdout",
     "output_type": "stream",
     "text": [
      "Writing pylint_testfil.txt\n"
     ]
    }
   ],
   "source": [
    "%%writefile pylint_testfil.txt\n",
    "For testing the pylint package, Jeppe"
   ]
  },
  {
   "cell_type": "code",
   "execution_count": 3,
   "id": "42cb7154",
   "metadata": {},
   "outputs": [
    {
     "name": "stdout",
     "output_type": "stream",
     "text": [
      "Overwriting pylint_testfil.txt\n"
     ]
    }
   ],
   "source": [
    "%%writefile pylint_testfil.txt\n",
    "For at gøre det igen\n",
    "\n",
    "print('whaat')"
   ]
>>>>>>> 2dc13ad1ea1aae6615c4d9e9b6ced561f7412e52
  },
  {
   "cell_type": "code",
   "execution_count": 1,
   "id": "5a9aefff",
   "metadata": {},
   "outputs": [
    {
     "name": "stdout",
     "output_type": "stream",
     "text": [
      "asdf\n"
     ]
    }
   ],
   "source": [
    "print(\"asdf\")"
   ]
  },
  {
   "cell_type": "code",
   "execution_count": null,
   "id": "b7f42157",
   "metadata": {},
   "outputs": [],
   "source": []
  }
 ],
 "metadata": {
  "kernelspec": {
   "display_name": "Python 3 (ipykernel)",
   "language": "python",
   "name": "python3"
  },
  "language_info": {
   "codemirror_mode": {
    "name": "ipython",
    "version": 3
   },
   "file_extension": ".py",
   "mimetype": "text/x-python",
   "name": "python",
   "nbconvert_exporter": "python",
   "pygments_lexer": "ipython3",
   "version": "3.9.7"
  }
 },
 "nbformat": 4,
 "nbformat_minor": 5
}
