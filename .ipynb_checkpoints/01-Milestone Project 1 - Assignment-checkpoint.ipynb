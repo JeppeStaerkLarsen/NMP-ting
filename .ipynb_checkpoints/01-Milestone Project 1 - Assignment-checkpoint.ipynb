{
 "cells": [
  {
   "cell_type": "markdown",
   "metadata": {},
   "source": [
    "___\n",
    "\n",
    "<a href='https://www.udemy.com/user/joseportilla/'><img src='../Pierian_Data_Logo.png'/></a>\n",
    "___\n",
    "<center><em>Content Copyright by Pierian Data</em></center>"
   ]
  },
  {
   "cell_type": "markdown",
   "metadata": {},
   "source": [
    "# Milestone Project 1\n",
    "## Congratulations on making it to your first milestone!\n",
    "You've already learned a ton and are ready to work on a real project.\n",
    "\n",
    "Your assignment: Create a Tic Tac Toe game. You are free to use any IDE you like.\n",
    "\n",
    "Here are the requirements:\n",
    "\n",
    "* 2 players should be able to play the game (both sitting at the same computer)\n",
    "* The board should be printed out every time a player makes a move\n",
    "* You should be able to accept input of the player position and then place a symbol on the board\n",
    "\n",
    "Feel free to use Google to help you figure anything out (but don't just Google \"Tic Tac Toe in Python\" otherwise you won't learn anything!) Keep in mind that this project can take anywhere between several hours to several days.\n",
    "\n",
    "There are 4 Jupyter Notebooks related to this assignment:\n",
    "\n",
    "* This Assignment Notebook\n",
    "* A \"Walkthrough Steps Workbook\" Notebook\n",
    "* A \"Complete Walkthrough Solution\" Notebook\n",
    "* An \"Advanced Solution\" Notebook\n",
    "\n",
    "I encourage you to just try to start the project on your own without referencing any of the notebooks. If you get stuck, check out the next lecture which is a text lecture with helpful hints and steps. If you're still stuck after that, then check out the Walkthrough Steps Workbook, which breaks up the project in steps for you to solve. Still stuck? Then check out the Complete Walkthrough Solution video for more help on approaching the project!"
   ]
  },
  {
   "cell_type": "markdown",
   "metadata": {},
   "source": [
    "There are parts of this that will be a struggle...and that is good! I have complete faith that if you have made it this far through the course you have all the tools and knowledge to tackle this project. Remember, it's totally open book, so take your time, do a little research, and remember:\n",
    "\n",
    "## HAVE FUN!"
   ]
  },
  {
   "cell_type": "code",
   "execution_count": 42,
   "metadata": {},
   "outputs": [
    {
     "name": "stdout",
     "output_type": "stream",
     "text": [
      "Sorry, but you did not choose a valid number of I's. Choose a number between 1 and 5\n",
      "   I   \n",
      "  III  \n",
      " IIIII \n",
      "IIIIIII\n",
      "Player 1, pick the number of I's you want to remove: 7\n"
     ]
    },
    {
     "data": {
      "text/plain": [
       "7"
      ]
     },
     "execution_count": 42,
     "metadata": {},
     "output_type": "execute_result"
    }
   ],
   "source": [
    "#nim sum game\n",
    "a='   I   '\n",
    "b='  III  '\n",
    "c=' IIIII '\n",
    "d='IIIIIII'\n",
    "from collections import Counter\n",
    "from IPython.display import clear_output\n",
    "\n",
    "\n",
    "def welcome_message():\n",
    "    print('Welcome to the Nim Sum game!')\n",
    "    print('Nim Sum is a game for two players.')\n",
    "    print(\"In turn choose a row. Remove at least one, at most all of the I's from that row.\")\n",
    "    print(\"You can only remove I's from one row in a turn \")\n",
    "    print('Player to remove the last match looses.')\n",
    "    print('Good luck!')\n",
    "\n",
    "def print_board(a,b,c,d):  #input the 4 rows as string containing I's or ' '\n",
    "    print(a)\n",
    "    print(b)\n",
    "    print(c)\n",
    "    print(d)\n",
    "\n",
    "def count_Is_rows(a,b,c,d):\n",
    "    l1=dict(Counter(list(map(lambda letter: letter=='I',a))))\n",
    "    l2=dict(Counter(list(map(lambda letter: letter=='I',b))))\n",
    "    l3=dict(Counter(list(map(lambda letter: letter=='I',c))))\n",
    "    l4=dict(Counter(list(map(lambda letter: letter=='I',d))))\n",
    "    x=[l1[True],l2[True],l3[True],l4[True]]\n",
    "    return x\n",
    " \n",
    "def count_Is_total(a,b,c,d):\n",
    "    return sum(count_Is_rows(a,b,c,d))\n",
    "    \n",
    "    \n",
    "\n",
    "def player_choose_row(player1,a,b,c,d): \n",
    "\n",
    "    #Player\n",
    "    if player1:\n",
    "        pl='Player 1, '\n",
    "    else:\n",
    "        pl='Player 2, '\n",
    "            \n",
    "    choice=''\n",
    "    # While the choice is not a digit, keep asking for input.\n",
    "    while choice not in ['1','2','3','4']:\n",
    "        \n",
    "        # we shouldn't convert here, otherwise we get an error on a wrong input\n",
    "        choice = input(\"{}pick a row. Top row is 1, bottom row is 4: \".format(pl))\n",
    "        \n",
    "        if choice not in ['1','2','3','4']:\n",
    "            # THIS CLEARS THE CURRENT OUTPUT BELOW THE CELL\n",
    "            clear_output()\n",
    "            \n",
    "            print(\"Sorry, but you did not choose a valid row (1-4)\") \n",
    "            print_board(a,b,c,d)\n",
    "    \n",
    "    # We can convert once the while loop above has confirmed we have a digit.\n",
    "    return int(choice)\n",
    "        \n",
    "def player_choose_Is(player1,number_in_row): \n",
    "    \n",
    "    #Player\n",
    "    if player1:\n",
    "        pl='Player 1, '\n",
    "    else:\n",
    "        pl='Player 2, '\n",
    "            \n",
    "    choice=''\n",
    "    # While the choice is not a digit lower than or equal to number I's , keep asking for input.\n",
    "    while choice not in list(map(str, list(range(1,number_in_row)))):\n",
    "        \n",
    "        # we shouldn't convert here, otherwise we get an error on a wrong input\n",
    "        choice = input(\"{}pick the number of I's you want to remove: \".format(pl))\n",
    "        \n",
    "        if choice not in ['1','2','3','4','5','6','7']:\n",
    "            # THIS CLEARS THE CURRENT OUTPUT BELOW THE CELL\n",
    "            clear_output()\n",
    "            \n",
    "            print(\"Sorry, but you did not choose a valid number of I's. Choose a number between 1 and {}\".format(number_in_row)) \n",
    "            print_board(a,b,c,d)\n",
    "    \n",
    "    #Optionally you can clear everything after running the function\n",
    "    #clear_output()\n",
    "    \n",
    "    # We can convert once the while loop above has confirmed we have a digit.\n",
    "    return int(choice)   \n",
    "    \n",
    "\n",
    "#GAME LOGIC\n",
    "\n",
    "welcome_message()          \n",
    "print_board(a,b,c,d)\n",
    "\n",
    "player_choose_Is(True,5)\n",
    "\n",
    "\n",
    "\n",
    "\n",
    "#count_Is_rows(a,b,c,d)\n",
    "#count_Is_total(a,b,c,d)\n",
    "    \n",
    "   \n",
    "\n"
   ]
  },
  {
   "cell_type": "code",
   "execution_count": 45,
   "metadata": {},
   "outputs": [
    {
     "data": {
      "text/plain": [
       "['1', '2', '3', '4', '5', '6']"
      ]
     },
     "execution_count": 45,
     "metadata": {},
     "output_type": "execute_result"
    }
   ],
   "source": [
    "\n",
    "\n"
   ]
  },
  {
   "cell_type": "code",
   "execution_count": null,
   "metadata": {},
   "outputs": [],
   "source": []
  },
  {
   "cell_type": "code",
   "execution_count": null,
   "metadata": {},
   "outputs": [],
   "source": []
  },
  {
   "cell_type": "code",
   "execution_count": null,
   "metadata": {},
   "outputs": [],
   "source": []
  },
  {
   "cell_type": "code",
   "execution_count": null,
   "metadata": {},
   "outputs": [],
   "source": []
  }
 ],
 "metadata": {
  "kernelspec": {
   "display_name": "Python 3 (ipykernel)",
   "language": "python",
   "name": "python3"
  },
  "language_info": {
   "codemirror_mode": {
    "name": "ipython",
    "version": 3
   },
   "file_extension": ".py",
   "mimetype": "text/x-python",
   "name": "python",
   "nbconvert_exporter": "python",
   "pygments_lexer": "ipython3",
   "version": "3.9.7"
  }
 },
 "nbformat": 4,
 "nbformat_minor": 1
}
