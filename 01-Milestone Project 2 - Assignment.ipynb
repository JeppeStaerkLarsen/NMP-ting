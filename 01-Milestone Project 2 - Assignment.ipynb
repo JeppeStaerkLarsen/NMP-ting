{
 "cells": [
  {
   "cell_type": "markdown",
   "metadata": {},
   "source": [
    "___\n",
    "\n",
    "<a href='https://www.udemy.com/user/joseportilla/'><img src='../Pierian_Data_Logo.png'/></a>\n",
    "___\n",
    "<center><em>Content Copyright by Pierian Data</em></center>"
   ]
  },
  {
   "cell_type": "markdown",
   "metadata": {},
   "source": [
    "# Milestone Project 2 - Blackjack Game\n",
    "In this milestone project you will be creating a Complete BlackJack Card Game in Python.\n",
    "\n",
    "Here are the requirements:\n",
    "\n",
    "* You need to create a simple text-based [BlackJack](https://en.wikipedia.org/wiki/Blackjack) game\n",
    "* The game needs to have one player versus an automated dealer.\n",
    "* The player can stand or hit.\n",
    "* The player must be able to pick their betting amount.\n",
    "* You need to keep track of the player's total money.\n",
    "* You need to alert the player of wins, losses, or busts, etc...\n",
    "\n",
    "And most importantly:\n",
    "\n",
    "* **You must use OOP and classes in some portion of your game. You can not just use functions in your game. Use classes to help you define the Deck and the Player's hand. There are many right ways to do this, so explore it well!**\n",
    "\n",
    "\n",
    "Feel free to expand this game. Try including multiple players. Try adding in Double-Down and card splits! Remember to you are free to use any resources you want and as always:\n",
    "\n",
    "# HAVE FUN!"
   ]
  },
  {
   "cell_type": "code",
   "execution_count": 7,
   "metadata": {},
   "outputs": [],
   "source": [
    "suits = ('Hearts', 'Diamonds', 'Spades', 'Clubs')\n",
    "ranks = ('Two', 'Three', 'Four', 'Five', 'Six', 'Seven', 'Eight', 'Nine', 'Ten', 'Jack', 'Queen', 'King', 'Ace')\n",
    "values = {'Two':2, 'Three':3, 'Four':4, 'Five':5, 'Six':6, 'Seven':7, 'Eight':8, \n",
    "            'Nine':9, 'Ten':10, 'Jack':11, 'Queen':12, 'King':13, 'Ace':14}\n",
    "import random"
   ]
  },
  {
   "cell_type": "code",
   "execution_count": 8,
   "metadata": {},
   "outputs": [],
   "source": [
    "class Card:\n",
    "    def __init__(self,suit,rank):\n",
    "        self.suit = suit\n",
    "        self.rank = rank\n",
    "        self.value = values[rank]\n",
    "    \n",
    "    def __str__(self):\n",
    "        return self.rank + ' of ' + self.suit\n",
    "    "
   ]
  },
  {
   "cell_type": "code",
   "execution_count": 9,
   "metadata": {},
   "outputs": [
    {
     "name": "stdout",
     "output_type": "stream",
     "text": [
      "Two of Hearts\n"
     ]
    }
   ],
   "source": [
    "class Deck:\n",
    "    def __init__(self):\n",
    "        self.all_cards=[]\n",
    "        for suit in suits:\n",
    "            for rank in ranks:\n",
    "                self.all_cards.append(Card(suit,rank))\n",
    "                \n",
    "                \n",
    "    def shuffle(self):\n",
    "        random.shuffle(self.all_cards)\n",
    "    \n",
    "    def deal_top_card(self):\n",
    "        return self.all_cards.pop(0)\n",
    "\n",
    "sæt = Deck()\n",
    "\n",
    "#sæt.shuffle()\n",
    "\n",
    "mit_kort = sæt.deal_top_card()\n",
    "\n",
    "print(mit_kort)\n",
    "\n",
    "    "
   ]
  },
  {
   "cell_type": "code",
   "execution_count": 67,
   "metadata": {},
   "outputs": [],
   "source": [
    "class Player: #Player object has name, amount and a hand\n",
    "    def __init__(self,name,amount):\n",
    "        self.name = name\n",
    "        self.amount = amount\n",
    "        self.all_cards = []\n",
    "        self.hand_value = sum()\n",
    "        \n",
    "    def top_card(self):\n",
    "        return self.all_cards.pop(0)\n",
    "    \n",
    "    def add_cards(self,cards): #Pass a list of cards or a single card\n",
    "        \n",
    "        if type(cards) == type([]):\n",
    "            return self.all_cards.extend(cards)\n",
    "        else:\n",
    "            self.all_cards.append(cards)\n",
    "    \n",
    "    def place_bet(self,bet_amount): #Pass a bet size \n",
    "        \n",
    "        if self.amount < bet_amount:\n",
    "            return print('Thats too much. You only have {} coins left!'.format(self.amount))\n",
    "        else:\n",
    "            self.amount -= bet_amount\n",
    "            return print('You bet {} coins'.format(bet_amount))\n",
    "            \n",
    "            \n",
    "            \n",
    "            \n",
    "    def __str__(self):\n",
    "        tekst = ''\n",
    "        for i in self.all_cards:\n",
    "            tekst += str(i)\n",
    "            tekst += '\\n'\n",
    "        return 'Player {} has {} coins. Cards on hand\\n{}Hand value: '.format(self.name,self.amount,tekst, self.hand_value)\n",
    "            "
   ]
  },
  {
   "cell_type": "code",
   "execution_count": 68,
   "metadata": {},
   "outputs": [],
   "source": [
    "Player1 = Player('Larsen',10)\n"
   ]
  },
  {
   "cell_type": "code",
   "execution_count": 70,
   "metadata": {},
   "outputs": [
    {
     "name": "stdout",
     "output_type": "stream",
     "text": [
      "Player Larsen has 10 coins and hand\n",
      "Six of Spades\n",
      "Jack of Diamonds\n",
      "Nine of Hearts\n",
      "King of Spades\n",
      "\n"
     ]
    }
   ],
   "source": [
    "\n",
    "new_deck = Deck()\n",
    "\n",
    "new_deck.shuffle()\n",
    "Player1.add_cards(new_deck.deal_top_card())\n",
    "Player1.add_cards(new_deck.deal_top_card())\n",
    "print(Player1)"
   ]
  },
  {
   "cell_type": "code",
   "execution_count": 73,
   "metadata": {},
   "outputs": [
    {
     "name": "stdout",
     "output_type": "stream",
     "text": [
      "39\n"
     ]
    }
   ],
   "source": [
    "hand_value=0\n",
    "for i in Player1.all_cards:\n",
    "    hand_value += i.value\n",
    "print(hand_value)\n",
    "    "
   ]
  },
  {
   "cell_type": "code",
   "execution_count": 40,
   "metadata": {},
   "outputs": [
    {
     "name": "stdout",
     "output_type": "stream",
     "text": [
      "Round number 1\n",
      "Juan, you have 100 coins left,\n",
      "and your hand is:\n",
      "Jack of Spades\n",
      "Thats too much. You only have 100 coins left!\n",
      "Do you want to play another round? y/ny\n",
      "Round number 2\n",
      "Juan, you have 100 coins left,\n",
      "and your hand is:\n",
      "Jack of Spades\n",
      "Eight of Clubs\n",
      "Thats too much. You only have 100 coins left!\n",
      "Do you want to play another round? y/nn\n",
      "Game over. Thank you for playing...\n"
     ]
    }
   ],
   "source": [
    "#GAME LOGIC\n",
    "player_one = Player('Juan',100)\n",
    "House = Player('House',1000000)\n",
    "\n",
    "new_deck = Deck()\n",
    "\n",
    "new_deck.shuffle()\n",
    "\n",
    "\n",
    "game_on = True\n",
    "round_num = 0\n",
    "\n",
    "while game_on:\n",
    "    \n",
    "    round_num +=1\n",
    "    \n",
    "    print('Round number {}'.format(round_num))\n",
    "\n",
    "    #Start ny runde\n",
    "    print('{}, you have {} coins left,'.format(player_one.name,player_one.amount))\n",
    "    \n",
    "    player_one.add_cards(new_deck.deal_top_card())\n",
    "    \n",
    "    print('and your hand is:'.format(player_one.name))\n",
    "    for i in player_one.all_cards: \n",
    "        print(i)\n",
    "    \n",
    "    \n",
    "    player_one.place_bet(198)\n",
    "    \n",
    "    \n",
    "        \n",
    "\n",
    "    \n",
    "    \n",
    "    \n",
    "    \n",
    "    \n",
    "\n",
    "    play_again = input('Do you want to play another round? y/n')\n",
    "    if play_again=='n':\n",
    "        game_on = False\n",
    "\n",
    "        \n",
    "print('Game over. Thank you for playing...')\n",
    "    \n",
    "    \n",
    "    \n",
    "    \n",
    "    \n",
    "     \n",
    "\n",
    "\n",
    "    \n",
    "\n",
    "\n",
    "\n",
    "\n",
    "\n"
   ]
  },
  {
   "cell_type": "code",
   "execution_count": null,
   "metadata": {},
   "outputs": [],
   "source": []
  },
  {
   "cell_type": "code",
   "execution_count": 57,
   "metadata": {},
   "outputs": [
    {
     "data": {
      "text/plain": [
       "[0,\n",
       " 1,\n",
       " 2,\n",
       " 3,\n",
       " 4,\n",
       " 5,\n",
       " 6,\n",
       " 7,\n",
       " 8,\n",
       " 9,\n",
       " 10,\n",
       " 11,\n",
       " 12,\n",
       " 13,\n",
       " 14,\n",
       " 15,\n",
       " 16,\n",
       " 17,\n",
       " 18,\n",
       " 19,\n",
       " 20,\n",
       " 21,\n",
       " 22,\n",
       " 23,\n",
       " 24,\n",
       " 25]"
      ]
     },
     "execution_count": 57,
     "metadata": {},
     "output_type": "execute_result"
    }
   ],
   "source": [
    "list(range(26))"
   ]
  },
  {
   "cell_type": "code",
   "execution_count": null,
   "metadata": {},
   "outputs": [],
   "source": []
  }
 ],
 "metadata": {
  "kernelspec": {
   "display_name": "Python 3 (ipykernel)",
   "language": "python",
   "name": "python3"
  },
  "language_info": {
   "codemirror_mode": {
    "name": "ipython",
    "version": 3
   },
   "file_extension": ".py",
   "mimetype": "text/x-python",
   "name": "python",
   "nbconvert_exporter": "python",
   "pygments_lexer": "ipython3",
   "version": "3.9.7"
  }
 },
 "nbformat": 4,
 "nbformat_minor": 1
}
