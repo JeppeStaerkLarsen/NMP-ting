{
 "cells": [
  {
   "cell_type": "markdown",
   "metadata": {},
   "source": [
    "___\n",
    "\n",
    "<a href='https://www.udemy.com/user/joseportilla/'><img src='../Pierian_Data_Logo.png'/></a>\n",
    "___\n",
    "<center><em>Content Copyright by Pierian Data</em></center>"
   ]
  },
  {
   "cell_type": "markdown",
   "metadata": {},
   "source": [
    "# Milestone Project 2 - Blackjack Game\n",
    "In this milestone project you will be creating a Complete BlackJack Card Game in Python.\n",
    "\n",
    "Here are the requirements:\n",
    "\n",
    "* You need to create a simple text-based [BlackJack](https://en.wikipedia.org/wiki/Blackjack) game\n",
    "* The game needs to have one player versus an automated dealer.\n",
    "* The player can stand or hit.\n",
    "* The player must be able to pick their betting amount.\n",
    "* You need to keep track of the player's total money.\n",
    "* You need to alert the player of wins, losses, or busts, etc...\n",
    "\n",
    "And most importantly:\n",
    "\n",
    "* **You must use OOP and classes in some portion of your game. You can not just use functions in your game. Use classes to help you define the Deck and the Player's hand. There are many right ways to do this, so explore it well!**\n",
    "\n",
    "\n",
    "Feel free to expand this game. Try including multiple players. Try adding in Double-Down and card splits! Remember to you are free to use any resources you want and as always:\n",
    "\n",
    "# HAVE FUN!"
   ]
  },
  {
   "cell_type": "code",
   "execution_count": 70,
   "metadata": {},
   "outputs": [],
   "source": [
    "suits = ('Hearts', 'Diamonds', 'Spades', 'Clubs')\n",
    "ranks = ('Two', 'Three', 'Four', 'Five', 'Six', 'Seven', 'Eight', 'Nine', 'Ten', 'Jack', 'Queen', 'King', 'Ace')\n",
    "values = {'Two':2, 'Three':3, 'Four':4, 'Five':5, 'Six':6, 'Seven':7, 'Eight':8, \n",
    "            'Nine':9, 'Ten':10, 'Jack':11, 'Queen':12, 'King':13, 'Ace':14}\n",
    "import random"
   ]
  },
  {
   "cell_type": "code",
   "execution_count": 71,
   "metadata": {},
   "outputs": [],
   "source": [
    "class Card:\n",
    "    def __init__(self,suit,rank):\n",
    "        self.suit = suit\n",
    "        self.rank = rank\n",
    "        self.value = values[rank]\n",
    "    \n",
    "    def __str__(self):\n",
    "        return self.rank + ' of ' + self.suit\n",
    "    "
   ]
  },
  {
   "cell_type": "code",
   "execution_count": 72,
   "metadata": {},
   "outputs": [
    {
     "name": "stdout",
     "output_type": "stream",
     "text": [
      "Two of Hearts\n"
     ]
    }
   ],
   "source": [
    "class Deck:\n",
    "    def __init__(self):\n",
    "        self.all_cards=[]\n",
    "        for suit in suits:\n",
    "            for rank in ranks:\n",
    "                self.all_cards.append(Card(suit,rank))\n",
    "                \n",
    "                \n",
    "    def shuffle(self):\n",
    "        random.shuffle(self.all_cards)\n",
    "    \n",
    "    def deal_top_card(self):\n",
    "        return self.all_cards.pop(0)\n",
    "\n",
    "sæt = Deck()\n",
    "\n",
    "#sæt.shuffle()\n",
    "\n",
    "mit_kort = sæt.deal_top_card()\n",
    "\n",
    "print(mit_kort)\n",
    "\n",
    "    "
   ]
  },
  {
   "cell_type": "code",
   "execution_count": 135,
   "metadata": {},
   "outputs": [],
   "source": [
    "class Player: #Player object has name, amount and a hand\n",
    "    def __init__(self,name,amount):\n",
    "        self.name = name\n",
    "        self.amount = amount\n",
    "        self.all_cards = []\n",
    "        \n",
    "    def top_card(self):\n",
    "        return self.all_cards.pop(0)\n",
    "    \n",
    "    def add_cards(self,cards): #Pass a list of cards or a single card\n",
    "        \n",
    "        if type(cards) == type([]):\n",
    "            return self.all_cards.extend(cards)\n",
    "        else:\n",
    "            self.all_cards.append(cards)\n",
    "    \n",
    "    def place_bet(self,bet_amount): #Pass a bet size \n",
    "        \n",
    "        if self.amount < bet_amount:\n",
    "            return print('Thats too much. You only have {} coins left!'.format(self.amount))\n",
    "        else:\n",
    "            self.amount -= bet_amount\n",
    "            return print('You bet {} coins'.format(bet_amount))\n",
    "    \n",
    "    def hand_value(self):\n",
    "        ## calculate Blackjack sum.\n",
    "        # if no ace --> sum\n",
    "        # determine ace value and sum\n",
    "        num_ace = 0\n",
    "        a=[]\n",
    "        for i in self.all_cards:\n",
    "            a.append(i.value)\n",
    "        num_ace = a.count(14)\n",
    "        val = sum(a)\n",
    "        \n",
    "        if num_ace == 0:\n",
    "            return val\n",
    "        else:\n",
    "            while num_ace > 0:\n",
    "                if val <= 21:\n",
    "                    break\n",
    "                else:\n",
    "                    num_ace -= 1\n",
    "                    val -= 13\n",
    "            \n",
    "        return val\n",
    "                 \n",
    "            \n",
    "    def __str__(self):\n",
    "        tekst = ''\n",
    "        for i in self.all_cards:\n",
    "            if self.all_cards.index(i)==0:\n",
    "                tekst += str(i) + ' (On hand)'\n",
    "                tekst += '\\n'\n",
    "            else:\n",
    "                tekst += str(i) + ' (On the table)'\n",
    "                tekst += '\\n'\n",
    "                \n",
    "        return 'Player {}\\nCards:\\n{}Hand value: {}\\n '.format(self.name,tekst, self.hand_value())\n",
    "            "
   ]
  },
  {
   "cell_type": "code",
   "execution_count": null,
   "metadata": {},
   "outputs": [],
   "source": [
    "\n"
   ]
  },
  {
   "cell_type": "code",
   "execution_count": 136,
   "metadata": {
    "scrolled": true
   },
   "outputs": [
    {
     "name": "stdout",
     "output_type": "stream",
     "text": [
      "Player Larsen\n",
      "Cards:\n",
      "Ace of Spades (On hand)\n",
      "Ace of Clubs (On the table)\n",
      "Ace of Hearts (On the table)\n",
      "Ace of Diamonds (On the table)\n",
      "Three of Spades (On the table)\n",
      "Hand value: 20\n",
      " \n"
     ]
    }
   ],
   "source": [
    "\n",
    "new_deck = Deck()\n",
    "\n",
    "new_deck.shuffle()\n",
    "Player1 = Player('Larsen',10)\n",
    "Player1.add_cards(Card('Spades','Ace'))\n",
    "#Player1.add_cards(Card('Clubs','Three'))\n",
    "Player1.add_cards(Card('Clubs','Ace'))\n",
    "#Player1.add_cards(Card('Spades','Three'))\n",
    "Player1.add_cards(Card('Hearts','Ace'))\n",
    "Player1.add_cards(Card('Diamonds','Ace'))\n",
    "Player1.add_cards(Card('Spades','Three'))\n",
    "print(Player1)"
   ]
  },
  {
   "cell_type": "code",
   "execution_count": 104,
   "metadata": {},
   "outputs": [
    {
     "name": "stdout",
     "output_type": "stream",
     "text": [
      "23\n"
     ]
    }
   ],
   "source": [
    "print(Player1.hand_value())"
   ]
  },
  {
   "cell_type": "code",
   "execution_count": 87,
   "metadata": {},
   "outputs": [
    {
     "data": {
      "text/plain": [
       "1"
      ]
     },
     "execution_count": 87,
     "metadata": {},
     "output_type": "execute_result"
    }
   ],
   "source": [
    "a=[]\n",
    "for i in Player1.all_cards:\n",
    "    a.append(i.value)\n",
    "\n",
    "hand_val = sum(a)\n",
    "\n",
    "a.count(2)\n",
    "    \n",
    "    "
   ]
  },
  {
   "cell_type": "code",
   "execution_count": 137,
   "metadata": {},
   "outputs": [
    {
     "name": "stdout",
     "output_type": "stream",
     "text": [
      "Juan, you have 100 coins left,\n",
      "Player Juan\n",
      "Cards:\n",
      "King of Spades (On hand)\n",
      "Hand value: 13\n",
      " \n",
      "Do you want to play another round? y/ny\n",
      "Juan, you have 100 coins left,\n",
      "Player Juan\n",
      "Cards:\n",
      "King of Spades (On hand)\n",
      "Three of Diamonds (On the table)\n",
      "Hand value: 16\n",
      " \n",
      "Do you want to play another round? y/ny\n",
      "Juan, you have 100 coins left,\n",
      "Player Juan\n",
      "Cards:\n",
      "King of Spades (On hand)\n",
      "Three of Diamonds (On the table)\n",
      "Four of Hearts (On the table)\n",
      "Hand value: 20\n",
      " \n",
      "Do you want to play another round? y/ny\n",
      "Juan, you have 100 coins left,\n",
      "Player Juan\n",
      "Cards:\n",
      "King of Spades (On hand)\n",
      "Three of Diamonds (On the table)\n",
      "Four of Hearts (On the table)\n",
      "Two of Clubs (On the table)\n",
      "Hand value: 22\n",
      " \n",
      "Do you want to play another round? y/nn\n",
      "Game over. Thank you for playing...\n"
     ]
    },
    {
     "data": {
      "text/plain": [
       "'\\nGame logic:\\n\\nWHILE GAME_ON\\n\\n    if first round \\n        1. Deal Player a card from the deck\\n            a. show player card and coins\\n    if second or beyond\\n        1. Deal Player a card from the deck\\n            a. show player cards, display visibility\\n            b. determine if bust or not\\n        \\n    If first round\\n        2. Ask player to place bet\\n            a. input. Add to pot \\n\\n    3. Ask player if it wants another card or stop.\\n        a. Input\\n        b. if y go to 1, if n go to 4\\n\\n    4. House round (write rules for House. Base rules on value of first player card)\\n        a. arg: player cards\\n\\n    5. Determine winner, and add amount to their coins\\n\\n    6. Ask player for another round\\n\\n\\n'"
      ]
     },
     "execution_count": 137,
     "metadata": {},
     "output_type": "execute_result"
    }
   ],
   "source": [
    "#GAME LOGIC\n",
    "player_one = Player('Juan',100)\n",
    "House = Player('House',1000000)\n",
    "\n",
    "new_deck = Deck()\n",
    "\n",
    "new_deck.shuffle()\n",
    "\n",
    "\n",
    "game_on = True\n",
    "round_num = 0\n",
    "\n",
    "while game_on:\n",
    "    \n",
    "    \n",
    "\n",
    "    #Start ny runde\n",
    "    \n",
    "    if round_num\n",
    "    player_one.add_cards(new_deck.deal_top_card())\n",
    "    print('{}, you have {} coins left,'.format(player_one.name,player_one.amount))\n",
    "    print(player_one)\n",
    "    \n",
    "    \n",
    "    #player_one.place_bet(198)\n",
    "    \n",
    "    \n",
    "        \n",
    "\n",
    "    \n",
    "    \n",
    "    \n",
    "    \n",
    "    \n",
    "\n",
    "    play_again = input('Do you want to play another round? y/n')\n",
    "    if play_again=='n':\n",
    "        game_on = False\n",
    "\n",
    "        \n",
    "print('Game over. Thank you for playing...')\n",
    "\n",
    "\n",
    "\n",
    "\n",
    "'''\n",
    "Game logic:\n",
    "\n",
    "WHILE GAME_ON\n",
    "\n",
    "    if first round \n",
    "        1. Deal Player a card from the deck\n",
    "            a. show player card and coins\n",
    "    if second or beyond\n",
    "        1. Deal Player a card from the deck\n",
    "            a. show player cards, display visibility\n",
    "            b. determine if bust or not\n",
    "        \n",
    "    If first round\n",
    "        2. Ask player to place bet\n",
    "            a. input. Add to pot \n",
    "\n",
    "    3. Ask player if it wants another card or stop.\n",
    "        a. Input\n",
    "        b. if y go to 1, if n go to 4\n",
    "\n",
    "    4. House round (write rules for House. Base rules on value of first player card)\n",
    "        a. arg: player cards\n",
    "\n",
    "    5. Determine winner, and add amount to their coins\n",
    "\n",
    "    6. Ask player for another round\n",
    "\n",
    "\n",
    "'''\n",
    "    \n",
    "    \n",
    "    \n",
    "    \n",
    "    \n",
    "     \n",
    "\n",
    "\n",
    "    \n",
    "\n",
    "\n",
    "\n",
    "\n",
    "\n"
   ]
  },
  {
   "cell_type": "code",
   "execution_count": null,
   "metadata": {},
   "outputs": [],
   "source": []
  },
  {
   "cell_type": "code",
   "execution_count": 57,
   "metadata": {},
   "outputs": [
    {
     "data": {
      "text/plain": [
       "[0,\n",
       " 1,\n",
       " 2,\n",
       " 3,\n",
       " 4,\n",
       " 5,\n",
       " 6,\n",
       " 7,\n",
       " 8,\n",
       " 9,\n",
       " 10,\n",
       " 11,\n",
       " 12,\n",
       " 13,\n",
       " 14,\n",
       " 15,\n",
       " 16,\n",
       " 17,\n",
       " 18,\n",
       " 19,\n",
       " 20,\n",
       " 21,\n",
       " 22,\n",
       " 23,\n",
       " 24,\n",
       " 25]"
      ]
     },
     "execution_count": 57,
     "metadata": {},
     "output_type": "execute_result"
    }
   ],
   "source": [
    "list(range(26))"
   ]
  },
  {
   "cell_type": "code",
   "execution_count": null,
   "metadata": {},
   "outputs": [],
   "source": []
  }
 ],
 "metadata": {
  "kernelspec": {
   "display_name": "Python 3 (ipykernel)",
   "language": "python",
   "name": "python3"
  },
  "language_info": {
   "codemirror_mode": {
    "name": "ipython",
    "version": 3
   },
   "file_extension": ".py",
   "mimetype": "text/x-python",
   "name": "python",
   "nbconvert_exporter": "python",
   "pygments_lexer": "ipython3",
   "version": "3.9.7"
  }
 },
 "nbformat": 4,
 "nbformat_minor": 1
}
